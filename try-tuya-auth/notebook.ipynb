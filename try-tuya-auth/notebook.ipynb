{
 "cells": [
  {
   "cell_type": "code",
   "execution_count": 7,
   "id": "8d9f63f3",
   "metadata": {},
   "outputs": [
    {
     "name": "stdout",
     "output_type": "stream",
     "text": [
      "zsh:1: command not found: pip\n"
     ]
    }
   ],
   "source": [
    "! pip install requests"
   ]
  },
  {
   "cell_type": "code",
   "execution_count": null,
   "id": "c06b4d97",
   "metadata": {},
   "outputs": [
    {
     "ename": "ModuleNotFoundError",
     "evalue": "No module named 'requests'",
     "output_type": "error",
     "traceback": [
      "\u001b[0;31m---------------------------------------------------------------------------\u001b[0m",
      "\u001b[0;31mModuleNotFoundError\u001b[0m                       Traceback (most recent call last)",
      "Cell \u001b[0;32mIn[4], line 1\u001b[0m\n\u001b[0;32m----> 1\u001b[0m \u001b[38;5;28;01mimport\u001b[39;00m\u001b[38;5;250m \u001b[39m\u001b[38;5;21;01mrequests\u001b[39;00m\n\u001b[1;32m      3\u001b[0m url \u001b[38;5;241m=\u001b[39m \u001b[38;5;124m\"\u001b[39m\u001b[38;5;124mhttps://tuya-auth-management-1025400970286.asia-southeast2.run.app/\u001b[39m\u001b[38;5;124m\"\u001b[39m\n\u001b[1;32m      5\u001b[0m \u001b[38;5;66;03m# 2. Siapkan data yang akan dikirim (sebagai dictionary Python)\u001b[39;00m\n",
      "\u001b[0;31mModuleNotFoundError\u001b[0m: No module named 'requests'"
     ]
    }
   ],
   "source": [
    "import requests\n",
    "\n",
    "url = \"https://tuya-auth-management-1025400970286.asia-southeast2.run.app/\"\n",
    "\n",
    "# 2. Siapkan data yang akan dikirim (sebagai dictionary Python)\n",
    "payload = {\n",
    "    \"access_id\": \"\",\n",
    "    \"access_secret\": \"\",\n",
    "    \"method\": \"GET\",\n",
    "    \"url_path\": \"/v1.0/token?grant_type=1\",\n",
    "    \"body\": \"\",\n",
    "    \"access_token\": \"\"\n",
    "}\n",
    "\n",
    "response = requests.get(url)\n",
    "response.json()"
   ]
  },
  {
   "cell_type": "code",
   "execution_count": null,
   "id": "ad926920",
   "metadata": {},
   "outputs": [
    {
     "data": {
      "text/plain": [
       "'1471d6f3d7baaf07281e9bf9fc7e68c0'"
      ]
     },
     "execution_count": 13,
     "metadata": {},
     "output_type": "execute_result"
    }
   ],
   "source": [
    "import requests\n",
    "\n",
    "url = \"http://localhost:8000/get-access-token\"\n",
    "\n",
    "# 2. Siapkan data yang akan dikirim (sebagai dictionary Python)\n",
    "payload = {\n",
    "    \"access_id\": \"\",\n",
    "    \"access_secret\": \"\",\n",
    "}\n",
    "\n",
    "response = requests.post(url, json=payload)\n",
    "response.json()"
   ]
  },
  {
   "cell_type": "code",
   "execution_count": 8,
   "id": "c69116c7",
   "metadata": {},
   "outputs": [
    {
     "data": {
      "text/plain": [
       "{'sign': 'E55038FCE65EF8D7E39B70CC931EF6616714B4A55CFADCFA52106643F261F3FE',\n",
       " 't': '1753686902885',\n",
       " 'nonce': '9982596131d7998f1436c41e8306b4f2'}"
      ]
     },
     "execution_count": 8,
     "metadata": {},
     "output_type": "execute_result"
    }
   ],
   "source": [
    "import get_tuya_signature\n",
    "\n",
    "get_tuya_signature.get_tuya_signature(ACCESS_ID, ACCESS_SECRET, \"GET\", \"/v1.0/token?grant_type=1\")"
   ]
  }
 ],
 "metadata": {
  "kernelspec": {
   "display_name": "Python 3",
   "language": "python",
   "name": "python3"
  },
  "language_info": {
   "codemirror_mode": {
    "name": "ipython",
    "version": 3
   },
   "file_extension": ".py",
   "mimetype": "text/x-python",
   "name": "python",
   "nbconvert_exporter": "python",
   "pygments_lexer": "ipython3",
   "version": "3.10.0"
  }
 },
 "nbformat": 4,
 "nbformat_minor": 5
}
